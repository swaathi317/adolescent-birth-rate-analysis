{
 "cells": [
  {
   "cell_type": "code",
   "execution_count": 17,
   "metadata": {},
   "outputs": [
    {
     "data": {
      "text/plain": [
       "'\\n@author: swaathi\\n'"
      ]
     },
     "execution_count": 17,
     "metadata": {},
     "output_type": "execute_result"
    }
   ],
   "source": [
    "\"\"\"\n",
    "@author: swaathi\n",
    "\"\"\""
   ]
  },
  {
   "cell_type": "code",
   "execution_count": 18,
   "metadata": {},
   "outputs": [],
   "source": [
    "import pandas as pd"
   ]
  },
  {
   "cell_type": "code",
   "execution_count": 19,
   "metadata": {},
   "outputs": [],
   "source": [
    "#import all datasets\n",
    "#birth rate\n",
    "brate_df = pd.read_json('../Data_Analysis/cleanedBirthRate.json')\n",
    "\n",
    "#HDI\n",
    "HDI_df = pd.read_json('../Data_Analysis/cleanedHDIdata.json')\n",
    "\n",
    "#abortion rate\n",
    "abortion_df = pd.read_json('../Data_Analysis/cleanedAbortiondata.json')\n",
    "\n",
    "#marriage age\n",
    "mrg_df = pd.read_json('../Data_Analysis/cleanedMrgdata.json')"
   ]
  },
  {
   "cell_type": "code",
   "execution_count": 20,
   "metadata": {},
   "outputs": [
    {
     "data": {
      "text/html": [
       "<div>\n",
       "<style scoped>\n",
       "    .dataframe tbody tr th:only-of-type {\n",
       "        vertical-align: middle;\n",
       "    }\n",
       "\n",
       "    .dataframe tbody tr th {\n",
       "        vertical-align: top;\n",
       "    }\n",
       "\n",
       "    .dataframe thead th {\n",
       "        text-align: right;\n",
       "    }\n",
       "</style>\n",
       "<table border=\"1\" class=\"dataframe\">\n",
       "  <thead>\n",
       "    <tr style=\"text-align: right;\">\n",
       "      <th></th>\n",
       "      <th>Year</th>\n",
       "      <th>Region</th>\n",
       "      <th>Country</th>\n",
       "      <th>Birth rate</th>\n",
       "    </tr>\n",
       "  </thead>\n",
       "  <tbody>\n",
       "    <tr>\n",
       "      <th>0</th>\n",
       "      <td>2001</td>\n",
       "      <td>Eastern Mediterranean</td>\n",
       "      <td>Afghanistan</td>\n",
       "      <td>167.2</td>\n",
       "    </tr>\n",
       "    <tr>\n",
       "      <th>1</th>\n",
       "      <td>2002</td>\n",
       "      <td>Eastern Mediterranean</td>\n",
       "      <td>Afghanistan</td>\n",
       "      <td>177.6</td>\n",
       "    </tr>\n",
       "    <tr>\n",
       "      <th>2</th>\n",
       "      <td>2003</td>\n",
       "      <td>Eastern Mediterranean</td>\n",
       "      <td>Afghanistan</td>\n",
       "      <td>151.8</td>\n",
       "    </tr>\n",
       "    <tr>\n",
       "      <th>3</th>\n",
       "      <td>2004</td>\n",
       "      <td>Eastern Mediterranean</td>\n",
       "      <td>Afghanistan</td>\n",
       "      <td>135.7</td>\n",
       "    </tr>\n",
       "    <tr>\n",
       "      <th>4</th>\n",
       "      <td>2005</td>\n",
       "      <td>Eastern Mediterranean</td>\n",
       "      <td>Afghanistan</td>\n",
       "      <td>117.4</td>\n",
       "    </tr>\n",
       "  </tbody>\n",
       "</table>\n",
       "</div>"
      ],
      "text/plain": [
       "   Year                 Region      Country  Birth rate\n",
       "0  2001  Eastern Mediterranean  Afghanistan       167.2\n",
       "1  2002  Eastern Mediterranean  Afghanistan       177.6\n",
       "2  2003  Eastern Mediterranean  Afghanistan       151.8\n",
       "3  2004  Eastern Mediterranean  Afghanistan       135.7\n",
       "4  2005  Eastern Mediterranean  Afghanistan       117.4"
      ]
     },
     "execution_count": 20,
     "metadata": {},
     "output_type": "execute_result"
    }
   ],
   "source": [
    "brate_df.head()"
   ]
  },
  {
   "cell_type": "code",
   "execution_count": 21,
   "metadata": {},
   "outputs": [],
   "source": [
    "avg_brate = brate_df.groupby(['Country','Region'])['Birth rate'].mean()\n",
    "avg_brate = avg_brate.reset_index(name = 'Avg. Birth rate')"
   ]
  },
  {
   "cell_type": "code",
   "execution_count": 22,
   "metadata": {},
   "outputs": [
    {
     "data": {
      "text/html": [
       "<div>\n",
       "<style scoped>\n",
       "    .dataframe tbody tr th:only-of-type {\n",
       "        vertical-align: middle;\n",
       "    }\n",
       "\n",
       "    .dataframe tbody tr th {\n",
       "        vertical-align: top;\n",
       "    }\n",
       "\n",
       "    .dataframe thead th {\n",
       "        text-align: right;\n",
       "    }\n",
       "</style>\n",
       "<table border=\"1\" class=\"dataframe\">\n",
       "  <thead>\n",
       "    <tr style=\"text-align: right;\">\n",
       "      <th></th>\n",
       "      <th>Country</th>\n",
       "      <th>Region</th>\n",
       "      <th>Avg. Birth rate</th>\n",
       "    </tr>\n",
       "  </thead>\n",
       "  <tbody>\n",
       "    <tr>\n",
       "      <th>0</th>\n",
       "      <td>Afghanistan</td>\n",
       "      <td>Eastern Mediterranean</td>\n",
       "      <td>114.591667</td>\n",
       "    </tr>\n",
       "    <tr>\n",
       "      <th>1</th>\n",
       "      <td>Albania</td>\n",
       "      <td>Europe</td>\n",
       "      <td>18.318750</td>\n",
       "    </tr>\n",
       "    <tr>\n",
       "      <th>2</th>\n",
       "      <td>Algeria</td>\n",
       "      <td>Africa</td>\n",
       "      <td>9.881818</td>\n",
       "    </tr>\n",
       "    <tr>\n",
       "      <th>3</th>\n",
       "      <td>Andorra</td>\n",
       "      <td>Europe</td>\n",
       "      <td>6.375000</td>\n",
       "    </tr>\n",
       "    <tr>\n",
       "      <th>4</th>\n",
       "      <td>Angola</td>\n",
       "      <td>Africa</td>\n",
       "      <td>167.290000</td>\n",
       "    </tr>\n",
       "  </tbody>\n",
       "</table>\n",
       "</div>"
      ],
      "text/plain": [
       "       Country                 Region  Avg. Birth rate\n",
       "0  Afghanistan  Eastern Mediterranean       114.591667\n",
       "1      Albania                 Europe        18.318750\n",
       "2      Algeria                 Africa         9.881818\n",
       "3      Andorra                 Europe         6.375000\n",
       "4       Angola                 Africa       167.290000"
      ]
     },
     "execution_count": 22,
     "metadata": {},
     "output_type": "execute_result"
    }
   ],
   "source": [
    "avg_brate.head()"
   ]
  },
  {
   "cell_type": "code",
   "execution_count": 23,
   "metadata": {},
   "outputs": [],
   "source": [
    "merged_df = pd.merge(HDI_df, avg_brate, on='Country')"
   ]
  },
  {
   "cell_type": "code",
   "execution_count": 24,
   "metadata": {},
   "outputs": [],
   "source": [
    "abortion_df = abortion_df.rename(columns = {'country': 'Country'})"
   ]
  },
  {
   "cell_type": "code",
   "execution_count": 25,
   "metadata": {},
   "outputs": [],
   "source": [
    "merged_df = pd.merge(abortion_df, merged_df, on='Country')"
   ]
  },
  {
   "cell_type": "code",
   "execution_count": 26,
   "metadata": {},
   "outputs": [],
   "source": [
    "merged_df = pd.merge(mrg_df, merged_df, on='Country')"
   ]
  },
  {
   "cell_type": "code",
   "execution_count": 27,
   "metadata": {},
   "outputs": [
    {
     "data": {
      "text/html": [
       "<div>\n",
       "<style scoped>\n",
       "    .dataframe tbody tr th:only-of-type {\n",
       "        vertical-align: middle;\n",
       "    }\n",
       "\n",
       "    .dataframe tbody tr th {\n",
       "        vertical-align: top;\n",
       "    }\n",
       "\n",
       "    .dataframe thead th {\n",
       "        text-align: right;\n",
       "    }\n",
       "</style>\n",
       "<table border=\"1\" class=\"dataframe\">\n",
       "  <thead>\n",
       "    <tr style=\"text-align: right;\">\n",
       "      <th></th>\n",
       "      <th>Country</th>\n",
       "      <th>Avg. age</th>\n",
       "      <th>legality</th>\n",
       "      <th>Human Development Index (HDI)</th>\n",
       "      <th>Expected years of schooling</th>\n",
       "      <th>Gross national income (GNI) per capita</th>\n",
       "      <th>HDI rank</th>\n",
       "      <th>Region</th>\n",
       "      <th>Avg. Birth rate</th>\n",
       "    </tr>\n",
       "  </thead>\n",
       "  <tbody>\n",
       "    <tr>\n",
       "      <th>0</th>\n",
       "      <td>Afghanistan</td>\n",
       "      <td>21.500000</td>\n",
       "      <td>To save a woman's life</td>\n",
       "      <td>0.511</td>\n",
       "      <td>10.2</td>\n",
       "      <td>2,229</td>\n",
       "      <td>169</td>\n",
       "      <td>Eastern Mediterranean</td>\n",
       "      <td>114.591667</td>\n",
       "    </tr>\n",
       "    <tr>\n",
       "      <th>1</th>\n",
       "      <td>Albania</td>\n",
       "      <td>24.200001</td>\n",
       "      <td>No restriction</td>\n",
       "      <td>0.795</td>\n",
       "      <td>14.7</td>\n",
       "      <td>13,998</td>\n",
       "      <td>69</td>\n",
       "      <td>Europe</td>\n",
       "      <td>18.318750</td>\n",
       "    </tr>\n",
       "    <tr>\n",
       "      <th>2</th>\n",
       "      <td>Algeria</td>\n",
       "      <td>28.200001</td>\n",
       "      <td>To preserve physical/mental health</td>\n",
       "      <td>0.748</td>\n",
       "      <td>14.6</td>\n",
       "      <td>11,174</td>\n",
       "      <td>91</td>\n",
       "      <td>Africa</td>\n",
       "      <td>9.881818</td>\n",
       "    </tr>\n",
       "    <tr>\n",
       "      <th>3</th>\n",
       "      <td>Angola</td>\n",
       "      <td>21.500000</td>\n",
       "      <td>Prohibited altogether</td>\n",
       "      <td>0.581</td>\n",
       "      <td>11.8</td>\n",
       "      <td>6,104</td>\n",
       "      <td>148</td>\n",
       "      <td>Africa</td>\n",
       "      <td>167.290000</td>\n",
       "    </tr>\n",
       "    <tr>\n",
       "      <th>4</th>\n",
       "      <td>Antigua and Barbuda</td>\n",
       "      <td>25.700001</td>\n",
       "      <td>To save a woman's life</td>\n",
       "      <td>0.778</td>\n",
       "      <td>12.8</td>\n",
       "      <td>20,895</td>\n",
       "      <td>78</td>\n",
       "      <td>Americas</td>\n",
       "      <td>39.706667</td>\n",
       "    </tr>\n",
       "  </tbody>\n",
       "</table>\n",
       "</div>"
      ],
      "text/plain": [
       "               Country   Avg. age                            legality  \\\n",
       "0          Afghanistan  21.500000              To save a woman's life   \n",
       "1              Albania  24.200001                      No restriction   \n",
       "2              Algeria  28.200001  To preserve physical/mental health   \n",
       "3               Angola  21.500000               Prohibited altogether   \n",
       "4  Antigua and Barbuda  25.700001              To save a woman's life   \n",
       "\n",
       "   Human Development Index (HDI)   Expected years of schooling  \\\n",
       "0                           0.511                         10.2   \n",
       "1                           0.795                         14.7   \n",
       "2                           0.748                         14.6   \n",
       "3                           0.581                         11.8   \n",
       "4                           0.778                         12.8   \n",
       "\n",
       "  Gross national income (GNI) per capita  HDI rank                 Region  \\\n",
       "0                                  2,229       169  Eastern Mediterranean   \n",
       "1                                 13,998        69                 Europe   \n",
       "2                                 11,174        91                 Africa   \n",
       "3                                  6,104       148                 Africa   \n",
       "4                                 20,895        78               Americas   \n",
       "\n",
       "   Avg. Birth rate  \n",
       "0       114.591667  \n",
       "1        18.318750  \n",
       "2         9.881818  \n",
       "3       167.290000  \n",
       "4        39.706667  "
      ]
     },
     "execution_count": 27,
     "metadata": {},
     "output_type": "execute_result"
    }
   ],
   "source": [
    "merged_df.head()"
   ]
  },
  {
   "cell_type": "code",
   "execution_count": 28,
   "metadata": {},
   "outputs": [],
   "source": [
    "merged_df= merged_df.rename(columns = {'Avg. age': 'Avg. Marriage age', 'legality': 'Abortion Legality'})"
   ]
  },
  {
   "cell_type": "code",
   "execution_count": 29,
   "metadata": {},
   "outputs": [
    {
     "name": "stdout",
     "output_type": "stream",
     "text": [
      "<class 'pandas.core.frame.DataFrame'>\n",
      "Int64Index: 174 entries, 0 to 173\n",
      "Data columns (total 9 columns):\n",
      " #   Column                                  Non-Null Count  Dtype  \n",
      "---  ------                                  --------------  -----  \n",
      " 0   Country                                 174 non-null    object \n",
      " 1   Avg. Marriage age                       174 non-null    float64\n",
      " 2   Abortion Legality                       174 non-null    object \n",
      " 3   Human Development Index (HDI)           174 non-null    float64\n",
      " 4   Expected years of schooling             174 non-null    float64\n",
      " 5   Gross national income (GNI) per capita  174 non-null    object \n",
      " 6   HDI rank                                174 non-null    int64  \n",
      " 7   Region                                  174 non-null    object \n",
      " 8   Avg. Birth rate                         174 non-null    float64\n",
      "dtypes: float64(4), int64(1), object(4)\n",
      "memory usage: 13.6+ KB\n"
     ]
    }
   ],
   "source": [
    "merged_df.info()"
   ]
  },
  {
   "cell_type": "code",
   "execution_count": 30,
   "metadata": {},
   "outputs": [
    {
     "data": {
      "text/html": [
       "<div>\n",
       "<style scoped>\n",
       "    .dataframe tbody tr th:only-of-type {\n",
       "        vertical-align: middle;\n",
       "    }\n",
       "\n",
       "    .dataframe tbody tr th {\n",
       "        vertical-align: top;\n",
       "    }\n",
       "\n",
       "    .dataframe thead th {\n",
       "        text-align: right;\n",
       "    }\n",
       "</style>\n",
       "<table border=\"1\" class=\"dataframe\">\n",
       "  <thead>\n",
       "    <tr style=\"text-align: right;\">\n",
       "      <th></th>\n",
       "      <th>Avg. Marriage age</th>\n",
       "      <th>Human Development Index (HDI)</th>\n",
       "      <th>Expected years of schooling</th>\n",
       "      <th>HDI rank</th>\n",
       "      <th>Avg. Birth rate</th>\n",
       "    </tr>\n",
       "  </thead>\n",
       "  <tbody>\n",
       "    <tr>\n",
       "      <th>count</th>\n",
       "      <td>174.000000</td>\n",
       "      <td>174.000000</td>\n",
       "      <td>174.000000</td>\n",
       "      <td>174.000000</td>\n",
       "      <td>174.000000</td>\n",
       "    </tr>\n",
       "    <tr>\n",
       "      <th>mean</th>\n",
       "      <td>24.885632</td>\n",
       "      <td>0.719684</td>\n",
       "      <td>13.291379</td>\n",
       "      <td>95.655172</td>\n",
       "      <td>56.907697</td>\n",
       "    </tr>\n",
       "    <tr>\n",
       "      <th>std</th>\n",
       "      <td>3.830026</td>\n",
       "      <td>0.151652</td>\n",
       "      <td>3.013090</td>\n",
       "      <td>55.303749</td>\n",
       "      <td>46.691709</td>\n",
       "    </tr>\n",
       "    <tr>\n",
       "      <th>min</th>\n",
       "      <td>17.200001</td>\n",
       "      <td>0.394000</td>\n",
       "      <td>5.000000</td>\n",
       "      <td>1.000000</td>\n",
       "      <td>1.773684</td>\n",
       "    </tr>\n",
       "    <tr>\n",
       "      <th>25%</th>\n",
       "      <td>21.900000</td>\n",
       "      <td>0.595750</td>\n",
       "      <td>11.400000</td>\n",
       "      <td>48.250000</td>\n",
       "      <td>17.927126</td>\n",
       "    </tr>\n",
       "    <tr>\n",
       "      <th>50%</th>\n",
       "      <td>24.000000</td>\n",
       "      <td>0.739000</td>\n",
       "      <td>13.100000</td>\n",
       "      <td>96.000000</td>\n",
       "      <td>47.208333</td>\n",
       "    </tr>\n",
       "    <tr>\n",
       "      <th>75%</th>\n",
       "      <td>27.900000</td>\n",
       "      <td>0.828750</td>\n",
       "      <td>15.200000</td>\n",
       "      <td>143.750000</td>\n",
       "      <td>83.968269</td>\n",
       "    </tr>\n",
       "    <tr>\n",
       "      <th>max</th>\n",
       "      <td>33.799999</td>\n",
       "      <td>0.957000</td>\n",
       "      <td>22.000000</td>\n",
       "      <td>189.000000</td>\n",
       "      <td>187.460000</td>\n",
       "    </tr>\n",
       "  </tbody>\n",
       "</table>\n",
       "</div>"
      ],
      "text/plain": [
       "       Avg. Marriage age  Human Development Index (HDI)   \\\n",
       "count         174.000000                      174.000000   \n",
       "mean           24.885632                        0.719684   \n",
       "std             3.830026                        0.151652   \n",
       "min            17.200001                        0.394000   \n",
       "25%            21.900000                        0.595750   \n",
       "50%            24.000000                        0.739000   \n",
       "75%            27.900000                        0.828750   \n",
       "max            33.799999                        0.957000   \n",
       "\n",
       "       Expected years of schooling    HDI rank  Avg. Birth rate  \n",
       "count                   174.000000  174.000000       174.000000  \n",
       "mean                     13.291379   95.655172        56.907697  \n",
       "std                       3.013090   55.303749        46.691709  \n",
       "min                       5.000000    1.000000         1.773684  \n",
       "25%                      11.400000   48.250000        17.927126  \n",
       "50%                      13.100000   96.000000        47.208333  \n",
       "75%                      15.200000  143.750000        83.968269  \n",
       "max                      22.000000  189.000000       187.460000  "
      ]
     },
     "execution_count": 30,
     "metadata": {},
     "output_type": "execute_result"
    }
   ],
   "source": [
    "merged_df.describe()"
   ]
  },
  {
   "cell_type": "code",
   "execution_count": 32,
   "metadata": {},
   "outputs": [],
   "source": [
    "merged_df.to_json('../Data_Analysis/mergedDatasets.json', orient='records')"
   ]
  }
 ],
 "metadata": {
  "kernelspec": {
   "display_name": "Python 3.9.4 64-bit",
   "language": "python",
   "name": "python3"
  },
  "language_info": {
   "codemirror_mode": {
    "name": "ipython",
    "version": 3
   },
   "file_extension": ".py",
   "mimetype": "text/x-python",
   "name": "python",
   "nbconvert_exporter": "python",
   "pygments_lexer": "ipython3",
   "version": "3.9.4"
  },
  "orig_nbformat": 4,
  "vscode": {
   "interpreter": {
    "hash": "99126e015e986299fd256885bb07fa2fa16434216ef139116de14532f637f888"
   }
  }
 },
 "nbformat": 4,
 "nbformat_minor": 2
}
