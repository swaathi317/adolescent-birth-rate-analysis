{
 "cells": [
  {
   "cell_type": "code",
   "execution_count": 3,
   "metadata": {},
   "outputs": [
    {
     "data": {
      "text/plain": [
       "'\\n@author: swaathi\\n'"
      ]
     },
     "execution_count": 3,
     "metadata": {},
     "output_type": "execute_result"
    }
   ],
   "source": [
    "\"\"\"\n",
    "@author: swaathi\n",
    "\"\"\""
   ]
  },
  {
   "cell_type": "code",
   "execution_count": 1,
   "metadata": {},
   "outputs": [],
   "source": [
    "import pandas as pd"
   ]
  },
  {
   "cell_type": "code",
   "execution_count": 2,
   "metadata": {},
   "outputs": [],
   "source": [
    "raw_df = pd.read_csv('HDI_schooling data.csv', sep=',', encoding='latin-1')"
   ]
  },
  {
   "cell_type": "code",
   "execution_count": 4,
   "metadata": {},
   "outputs": [
    {
     "data": {
      "text/html": [
       "<div>\n",
       "<style scoped>\n",
       "    .dataframe tbody tr th:only-of-type {\n",
       "        vertical-align: middle;\n",
       "    }\n",
       "\n",
       "    .dataframe tbody tr th {\n",
       "        vertical-align: top;\n",
       "    }\n",
       "\n",
       "    .dataframe thead th {\n",
       "        text-align: right;\n",
       "    }\n",
       "</style>\n",
       "<table border=\"1\" class=\"dataframe\">\n",
       "  <thead>\n",
       "    <tr style=\"text-align: right;\">\n",
       "      <th></th>\n",
       "      <th>HDI rank</th>\n",
       "      <th>Country</th>\n",
       "      <th>Human Development Index (HDI)</th>\n",
       "      <th>Life expectancy at birth</th>\n",
       "      <th>Expected years of schooling</th>\n",
       "      <th>Mean years of schooling</th>\n",
       "      <th>Gross national income (GNI) per capita</th>\n",
       "      <th>GNI per capita rank minus HDI rank</th>\n",
       "      <th>HDI rank.1</th>\n",
       "      <th>Unnamed: 9</th>\n",
       "    </tr>\n",
       "  </thead>\n",
       "  <tbody>\n",
       "    <tr>\n",
       "      <th>0</th>\n",
       "      <td>1</td>\n",
       "      <td>Norway</td>\n",
       "      <td>0.957</td>\n",
       "      <td>82.4</td>\n",
       "      <td>18.1</td>\n",
       "      <td>12.9</td>\n",
       "      <td>66,494</td>\n",
       "      <td>7</td>\n",
       "      <td>1</td>\n",
       "      <td>NaN</td>\n",
       "    </tr>\n",
       "    <tr>\n",
       "      <th>1</th>\n",
       "      <td>2</td>\n",
       "      <td>Ireland</td>\n",
       "      <td>0.955</td>\n",
       "      <td>82.3</td>\n",
       "      <td>18.7</td>\n",
       "      <td>12.7</td>\n",
       "      <td>68,371</td>\n",
       "      <td>4</td>\n",
       "      <td>3</td>\n",
       "      <td>NaN</td>\n",
       "    </tr>\n",
       "    <tr>\n",
       "      <th>2</th>\n",
       "      <td>2</td>\n",
       "      <td>Switzerland</td>\n",
       "      <td>0.955</td>\n",
       "      <td>83.8</td>\n",
       "      <td>16.3</td>\n",
       "      <td>13.4</td>\n",
       "      <td>69,394</td>\n",
       "      <td>3</td>\n",
       "      <td>2</td>\n",
       "      <td>NaN</td>\n",
       "    </tr>\n",
       "    <tr>\n",
       "      <th>3</th>\n",
       "      <td>4</td>\n",
       "      <td>Hong Kong, China (SAR)</td>\n",
       "      <td>0.949</td>\n",
       "      <td>84.9</td>\n",
       "      <td>16.9</td>\n",
       "      <td>12.3</td>\n",
       "      <td>62,985</td>\n",
       "      <td>7</td>\n",
       "      <td>4</td>\n",
       "      <td>NaN</td>\n",
       "    </tr>\n",
       "    <tr>\n",
       "      <th>4</th>\n",
       "      <td>4</td>\n",
       "      <td>Iceland</td>\n",
       "      <td>0.949</td>\n",
       "      <td>83.0</td>\n",
       "      <td>19.1</td>\n",
       "      <td>12.8</td>\n",
       "      <td>54,682</td>\n",
       "      <td>14</td>\n",
       "      <td>4</td>\n",
       "      <td>NaN</td>\n",
       "    </tr>\n",
       "  </tbody>\n",
       "</table>\n",
       "</div>"
      ],
      "text/plain": [
       "   HDI rank                 Country  Human Development Index (HDI)   \\\n",
       "0         1                  Norway                           0.957   \n",
       "1         2                 Ireland                           0.955   \n",
       "2         2             Switzerland                           0.955   \n",
       "3         4  Hong Kong, China (SAR)                           0.949   \n",
       "4         4                 Iceland                           0.949   \n",
       "\n",
       "   Life expectancy at birth  Expected years of schooling  \\\n",
       "0                      82.4                         18.1   \n",
       "1                      82.3                         18.7   \n",
       "2                      83.8                         16.3   \n",
       "3                      84.9                         16.9   \n",
       "4                      83.0                         19.1   \n",
       "\n",
       "   Mean years of schooling Gross national income (GNI) per capita  \\\n",
       "0                     12.9                                 66,494   \n",
       "1                     12.7                                 68,371   \n",
       "2                     13.4                                 69,394   \n",
       "3                     12.3                                 62,985   \n",
       "4                     12.8                                 54,682   \n",
       "\n",
       "   GNI per capita rank minus HDI rank  HDI rank.1  Unnamed: 9  \n",
       "0                                   7           1         NaN  \n",
       "1                                   4           3         NaN  \n",
       "2                                   3           2         NaN  \n",
       "3                                   7           4         NaN  \n",
       "4                                  14           4         NaN  "
      ]
     },
     "execution_count": 4,
     "metadata": {},
     "output_type": "execute_result"
    }
   ],
   "source": [
    "raw_df.head()"
   ]
  },
  {
   "cell_type": "code",
   "execution_count": 5,
   "metadata": {},
   "outputs": [
    {
     "data": {
      "text/plain": [
       "Index(['HDI rank', 'Country', 'Human Development Index (HDI) ',\n",
       "       'Life expectancy at birth', 'Expected years of schooling',\n",
       "       'Mean years of schooling', 'Gross national income (GNI) per capita',\n",
       "       'GNI per capita rank minus HDI rank', 'HDI rank.1', 'Unnamed: 9'],\n",
       "      dtype='object')"
      ]
     },
     "execution_count": 5,
     "metadata": {},
     "output_type": "execute_result"
    }
   ],
   "source": [
    "raw_df.columns"
   ]
  },
  {
   "cell_type": "markdown",
   "metadata": {},
   "source": [
    "Not all of these are required for the analysis. Hence, certain columns are selected."
   ]
  },
  {
   "cell_type": "code",
   "execution_count": 6,
   "metadata": {},
   "outputs": [],
   "source": [
    "hdi_df = raw_df[['Country','Human Development Index (HDI) ', 'Expected years of schooling', 'Gross national income (GNI) per capita','HDI rank']]"
   ]
  },
  {
   "cell_type": "code",
   "execution_count": 7,
   "metadata": {},
   "outputs": [
    {
     "name": "stdout",
     "output_type": "stream",
     "text": [
      "<class 'pandas.core.frame.DataFrame'>\n",
      "RangeIndex: 189 entries, 0 to 188\n",
      "Data columns (total 5 columns):\n",
      " #   Column                                  Non-Null Count  Dtype  \n",
      "---  ------                                  --------------  -----  \n",
      " 0   Country                                 189 non-null    object \n",
      " 1   Human Development Index (HDI)           189 non-null    float64\n",
      " 2   Expected years of schooling             189 non-null    float64\n",
      " 3   Gross national income (GNI) per capita  189 non-null    object \n",
      " 4   HDI rank                                189 non-null    int64  \n",
      "dtypes: float64(2), int64(1), object(2)\n",
      "memory usage: 7.5+ KB\n"
     ]
    }
   ],
   "source": [
    "hdi_df.info()"
   ]
  },
  {
   "cell_type": "markdown",
   "metadata": {},
   "source": [
    "We can see that there are no null records in the dataset"
   ]
  },
  {
   "cell_type": "code",
   "execution_count": 9,
   "metadata": {},
   "outputs": [],
   "source": [
    "hdi_df.to_json('../Data_Analysis/cleanedHDIdata.json', orient='records')"
   ]
  }
 ],
 "metadata": {
  "kernelspec": {
   "display_name": "Python 3.9.4 64-bit",
   "language": "python",
   "name": "python3"
  },
  "language_info": {
   "codemirror_mode": {
    "name": "ipython",
    "version": 3
   },
   "file_extension": ".py",
   "mimetype": "text/x-python",
   "name": "python",
   "nbconvert_exporter": "python",
   "pygments_lexer": "ipython3",
   "version": "3.9.4"
  },
  "orig_nbformat": 4,
  "vscode": {
   "interpreter": {
    "hash": "99126e015e986299fd256885bb07fa2fa16434216ef139116de14532f637f888"
   }
  }
 },
 "nbformat": 4,
 "nbformat_minor": 2
}
