{
  "nbformat": 4,
  "nbformat_minor": 0,
  "metadata": {
    "colab": {
      "name": "Average marriage age and birth rate analysis.ipynb",
      "provenance": [],
      "collapsed_sections": []
    },
    "kernelspec": {
      "name": "python3",
      "display_name": "Python 3"
    },
    "language_info": {
      "name": "python"
    }
  },
  "cells": [
    {
      "cell_type": "code",
      "execution_count": null,
      "metadata": {
        "colab": {
          "base_uri": "https://localhost:8080/",
          "height": 35
        },
        "id": "-oWvsoIJ6Czs",
        "outputId": "2c298968-5954-468a-e448-d2bb397cf89f"
      },
      "outputs": [
        {
          "output_type": "execute_result",
          "data": {
            "text/plain": [
              "'\\n@author: vaaruni\\n'"
            ],
            "application/vnd.google.colaboratory.intrinsic+json": {
              "type": "string"
            }
          },
          "metadata": {},
          "execution_count": 17
        }
      ],
      "source": [
        "\"\"\"\n",
        "@author: vaaruni\n",
        "\"\"\""
      ]
    },
    {
      "cell_type": "code",
      "source": [
        "import pandas as pd\n",
        "import numpy as np\n",
        "import matplotlib.pyplot as plt"
      ],
      "metadata": {
        "id": "yj0V-dgO6WiQ"
      },
      "execution_count": null,
      "outputs": []
    },
    {
      "cell_type": "code",
      "source": [
        "#load cleaned avg. marriage age and birth rate datasets\n",
        "mrg_df = pd.read_json('cleanedMrgdata.json')\n",
        "brate_df = pd.read_json('cleanedBirthRate.json')"
      ],
      "metadata": {
        "id": "PTWRja5j6ZUw"
      },
      "execution_count": null,
      "outputs": []
    },
    {
      "cell_type": "code",
      "source": [
        "avg_brate = brate_df.groupby(['Country'])['Birth rate'].mean()\n",
        "avg_brate = avg_brate.reset_index(name = 'Avg. Birth rate')"
      ],
      "metadata": {
        "id": "f84SdjkX62UT"
      },
      "execution_count": null,
      "outputs": []
    },
    {
      "cell_type": "code",
      "source": [
        "avg_brate.describe()"
      ],
      "metadata": {
        "colab": {
          "base_uri": "https://localhost:8080/",
          "height": 300
        },
        "id": "k8wzP-mJuWRE",
        "outputId": "f00207be-96de-40fd-dc50-d0251fd5e42b"
      },
      "execution_count": null,
      "outputs": [
        {
          "output_type": "execute_result",
          "data": {
            "text/plain": [
              "       Avg. Birth rate\n",
              "count       193.000000\n",
              "mean         56.036277\n",
              "std          46.145378\n",
              "min           1.000000\n",
              "25%          16.221053\n",
              "50%          46.585714\n",
              "75%          83.776923\n",
              "max         187.460000"
            ],
            "text/html": [
              "\n",
              "  <div id=\"df-3e2c6e11-64cf-48ea-8454-8780fd8a0604\">\n",
              "    <div class=\"colab-df-container\">\n",
              "      <div>\n",
              "<style scoped>\n",
              "    .dataframe tbody tr th:only-of-type {\n",
              "        vertical-align: middle;\n",
              "    }\n",
              "\n",
              "    .dataframe tbody tr th {\n",
              "        vertical-align: top;\n",
              "    }\n",
              "\n",
              "    .dataframe thead th {\n",
              "        text-align: right;\n",
              "    }\n",
              "</style>\n",
              "<table border=\"1\" class=\"dataframe\">\n",
              "  <thead>\n",
              "    <tr style=\"text-align: right;\">\n",
              "      <th></th>\n",
              "      <th>Avg. Birth rate</th>\n",
              "    </tr>\n",
              "  </thead>\n",
              "  <tbody>\n",
              "    <tr>\n",
              "      <th>count</th>\n",
              "      <td>193.000000</td>\n",
              "    </tr>\n",
              "    <tr>\n",
              "      <th>mean</th>\n",
              "      <td>56.036277</td>\n",
              "    </tr>\n",
              "    <tr>\n",
              "      <th>std</th>\n",
              "      <td>46.145378</td>\n",
              "    </tr>\n",
              "    <tr>\n",
              "      <th>min</th>\n",
              "      <td>1.000000</td>\n",
              "    </tr>\n",
              "    <tr>\n",
              "      <th>25%</th>\n",
              "      <td>16.221053</td>\n",
              "    </tr>\n",
              "    <tr>\n",
              "      <th>50%</th>\n",
              "      <td>46.585714</td>\n",
              "    </tr>\n",
              "    <tr>\n",
              "      <th>75%</th>\n",
              "      <td>83.776923</td>\n",
              "    </tr>\n",
              "    <tr>\n",
              "      <th>max</th>\n",
              "      <td>187.460000</td>\n",
              "    </tr>\n",
              "  </tbody>\n",
              "</table>\n",
              "</div>\n",
              "      <button class=\"colab-df-convert\" onclick=\"convertToInteractive('df-3e2c6e11-64cf-48ea-8454-8780fd8a0604')\"\n",
              "              title=\"Convert this dataframe to an interactive table.\"\n",
              "              style=\"display:none;\">\n",
              "        \n",
              "  <svg xmlns=\"http://www.w3.org/2000/svg\" height=\"24px\"viewBox=\"0 0 24 24\"\n",
              "       width=\"24px\">\n",
              "    <path d=\"M0 0h24v24H0V0z\" fill=\"none\"/>\n",
              "    <path d=\"M18.56 5.44l.94 2.06.94-2.06 2.06-.94-2.06-.94-.94-2.06-.94 2.06-2.06.94zm-11 1L8.5 8.5l.94-2.06 2.06-.94-2.06-.94L8.5 2.5l-.94 2.06-2.06.94zm10 10l.94 2.06.94-2.06 2.06-.94-2.06-.94-.94-2.06-.94 2.06-2.06.94z\"/><path d=\"M17.41 7.96l-1.37-1.37c-.4-.4-.92-.59-1.43-.59-.52 0-1.04.2-1.43.59L10.3 9.45l-7.72 7.72c-.78.78-.78 2.05 0 2.83L4 21.41c.39.39.9.59 1.41.59.51 0 1.02-.2 1.41-.59l7.78-7.78 2.81-2.81c.8-.78.8-2.07 0-2.86zM5.41 20L4 18.59l7.72-7.72 1.47 1.35L5.41 20z\"/>\n",
              "  </svg>\n",
              "      </button>\n",
              "      \n",
              "  <style>\n",
              "    .colab-df-container {\n",
              "      display:flex;\n",
              "      flex-wrap:wrap;\n",
              "      gap: 12px;\n",
              "    }\n",
              "\n",
              "    .colab-df-convert {\n",
              "      background-color: #E8F0FE;\n",
              "      border: none;\n",
              "      border-radius: 50%;\n",
              "      cursor: pointer;\n",
              "      display: none;\n",
              "      fill: #1967D2;\n",
              "      height: 32px;\n",
              "      padding: 0 0 0 0;\n",
              "      width: 32px;\n",
              "    }\n",
              "\n",
              "    .colab-df-convert:hover {\n",
              "      background-color: #E2EBFA;\n",
              "      box-shadow: 0px 1px 2px rgba(60, 64, 67, 0.3), 0px 1px 3px 1px rgba(60, 64, 67, 0.15);\n",
              "      fill: #174EA6;\n",
              "    }\n",
              "\n",
              "    [theme=dark] .colab-df-convert {\n",
              "      background-color: #3B4455;\n",
              "      fill: #D2E3FC;\n",
              "    }\n",
              "\n",
              "    [theme=dark] .colab-df-convert:hover {\n",
              "      background-color: #434B5C;\n",
              "      box-shadow: 0px 1px 3px 1px rgba(0, 0, 0, 0.15);\n",
              "      filter: drop-shadow(0px 1px 2px rgba(0, 0, 0, 0.3));\n",
              "      fill: #FFFFFF;\n",
              "    }\n",
              "  </style>\n",
              "\n",
              "      <script>\n",
              "        const buttonEl =\n",
              "          document.querySelector('#df-3e2c6e11-64cf-48ea-8454-8780fd8a0604 button.colab-df-convert');\n",
              "        buttonEl.style.display =\n",
              "          google.colab.kernel.accessAllowed ? 'block' : 'none';\n",
              "\n",
              "        async function convertToInteractive(key) {\n",
              "          const element = document.querySelector('#df-3e2c6e11-64cf-48ea-8454-8780fd8a0604');\n",
              "          const dataTable =\n",
              "            await google.colab.kernel.invokeFunction('convertToInteractive',\n",
              "                                                     [key], {});\n",
              "          if (!dataTable) return;\n",
              "\n",
              "          const docLinkHtml = 'Like what you see? Visit the ' +\n",
              "            '<a target=\"_blank\" href=https://colab.research.google.com/notebooks/data_table.ipynb>data table notebook</a>'\n",
              "            + ' to learn more about interactive tables.';\n",
              "          element.innerHTML = '';\n",
              "          dataTable['output_type'] = 'display_data';\n",
              "          await google.colab.output.renderOutput(dataTable, element);\n",
              "          const docLink = document.createElement('div');\n",
              "          docLink.innerHTML = docLinkHtml;\n",
              "          element.appendChild(docLink);\n",
              "        }\n",
              "      </script>\n",
              "    </div>\n",
              "  </div>\n",
              "  "
            ]
          },
          "metadata": {},
          "execution_count": 24
        }
      ]
    },
    {
      "cell_type": "code",
      "source": [
        "mrg_df.info()"
      ],
      "metadata": {
        "colab": {
          "base_uri": "https://localhost:8080/"
        },
        "id": "gITjHY8R6oin",
        "outputId": "098c5020-c3b6-4cca-d384-03786d273939"
      },
      "execution_count": null,
      "outputs": [
        {
          "output_type": "stream",
          "name": "stdout",
          "text": [
            "<class 'pandas.core.frame.DataFrame'>\n",
            "RangeIndex: 216 entries, 0 to 215\n",
            "Data columns (total 2 columns):\n",
            " #   Column    Non-Null Count  Dtype  \n",
            "---  ------    --------------  -----  \n",
            " 0   Country   216 non-null    object \n",
            " 1   Avg. age  216 non-null    float64\n",
            "dtypes: float64(1), object(1)\n",
            "memory usage: 3.5+ KB\n"
          ]
        }
      ]
    },
    {
      "cell_type": "code",
      "source": [
        "# To find the missing countries in Birth rate data set\n",
        "for a in list(mrg_df['Country']):\n",
        "  if(a in list(avg_brate['Country'])):\n",
        "    pass\n",
        "  else:\n",
        "    print(a)"
      ],
      "metadata": {
        "colab": {
          "base_uri": "https://localhost:8080/"
        },
        "id": "Ndp3j2w_6rcp",
        "outputId": "4a223c56-0aa8-45c1-f14e-84854b150845"
      },
      "execution_count": null,
      "outputs": [
        {
          "output_type": "stream",
          "name": "stdout",
          "text": [
            "Anguilla\n",
            "Aruba\n",
            "Bermuda\n",
            "Cayman Islands\n",
            "Channel Islands\n",
            "Faeroe Islands\n",
            "Falkland Islands\n",
            "French Guiana\n",
            "French Polynesia\n",
            "Gibraltar\n",
            "Greenland\n",
            "Hong Kong\n",
            "Isle of Man\n",
            "Kosovo\n",
            "Liechtenstein\n",
            "Macao\n",
            "Mayotte\n",
            "Monaco\n",
            "Montserrat\n",
            "Netherlands Antilles\n",
            "New Caledonia\n",
            "Northern Mariana Islands\n",
            "Palestine\n",
            "Puerto Rico\n",
            "Reunion\n",
            "Sint Maarten (Dutch part)\n",
            "Tokelau\n",
            "Turks and Caicos Islands\n",
            "United States of Virgin Islands\n",
            "Wallis and Futuna\n"
          ]
        }
      ]
    },
    {
      "cell_type": "code",
      "source": [
        "#merging birth rate and marriage age dfs\n",
        "brate_mrg = pd.merge(mrg_df, avg_brate, on='Country')"
      ],
      "metadata": {
        "id": "hNtfLTtB-5K0"
      },
      "execution_count": null,
      "outputs": []
    },
    {
      "cell_type": "code",
      "source": [
        "brate_mrg.info()"
      ],
      "metadata": {
        "id": "_m26WA2d_IT9",
        "outputId": "2bea9780-ba81-47b3-af40-2082e66f6f3c",
        "colab": {
          "base_uri": "https://localhost:8080/"
        }
      },
      "execution_count": null,
      "outputs": [
        {
          "output_type": "stream",
          "name": "stdout",
          "text": [
            "<class 'pandas.core.frame.DataFrame'>\n",
            "Int64Index: 186 entries, 0 to 185\n",
            "Data columns (total 3 columns):\n",
            " #   Column           Non-Null Count  Dtype  \n",
            "---  ------           --------------  -----  \n",
            " 0   Country          186 non-null    object \n",
            " 1   Avg. age         186 non-null    float64\n",
            " 2   Avg. Birth rate  186 non-null    float64\n",
            "dtypes: float64(2), object(1)\n",
            "memory usage: 5.8+ KB\n"
          ]
        }
      ]
    },
    {
      "cell_type": "code",
      "source": [
        "#checking the maximum and minimum of the average marriage age\n",
        "brate_mrg['Avg. age'].describe()\n"
      ],
      "metadata": {
        "colab": {
          "base_uri": "https://localhost:8080/"
        },
        "id": "5swwUz7pZkQg",
        "outputId": "9342db97-5728-47d5-b4d6-8a01d0053f21"
      },
      "execution_count": null,
      "outputs": [
        {
          "output_type": "execute_result",
          "data": {
            "text/plain": [
              "count    186.000000\n",
              "mean      24.850538\n",
              "std        3.790946\n",
              "min       17.200001\n",
              "25%       21.900000\n",
              "50%       24.050000\n",
              "75%       27.875000\n",
              "max       33.799999\n",
              "Name: Avg. age, dtype: float64"
            ]
          },
          "metadata": {},
          "execution_count": 29
        }
      ]
    },
    {
      "cell_type": "markdown",
      "source": [
        "Minimum avg. marriage age is 17 and maximum avg. marriage age is 33. The mean age of marriage is 24. There seems to be no country with an average marriage age less than 16, indicating that child marriages are not the norm anywhere."
      ],
      "metadata": {
        "id": "Hc0AUxeWyXDj"
      }
    },
    {
      "cell_type": "code",
      "source": [
        "#correlation matrix\n",
        "corrM = brate_mrg.corr()\n",
        "print(corrM)\n",
        "\n",
        "#By descending order of average marriage age\n",
        "amr_br_df=(brate_mrg[['Avg. age','Avg. Birth rate']])\n",
        "print(amr_br_df.sort_values(by=['Avg. age'], ascending=False))\n",
        "\n"
      ],
      "metadata": {
        "colab": {
          "base_uri": "https://localhost:8080/"
        },
        "id": "GZKTQod2abHn",
        "outputId": "7cfdb679-ecf3-434f-fe20-bb1234e44f67"
      },
      "execution_count": null,
      "outputs": [
        {
          "output_type": "stream",
          "name": "stdout",
          "text": [
            "                 Avg. age  Avg. Birth rate\n",
            "Avg. age          1.00000         -0.71595\n",
            "Avg. Birth rate  -0.71595          1.00000\n",
            "      Avg. age  Avg. Birth rate\n",
            "159  33.799999         5.415789\n",
            "155  33.200001         9.573684\n",
            "48   32.500000        47.266667\n",
            "74   32.400002        11.727778\n",
            "46   32.400002         3.857895\n",
            "..         ...              ...\n",
            "100  18.799999       177.420000\n",
            "31   18.799999       179.780000\n",
            "12   18.799999       113.558824\n",
            "30   17.299999       182.066667\n",
            "118  17.200001       187.460000\n",
            "\n",
            "[186 rows x 2 columns]\n"
          ]
        }
      ]
    },
    {
      "cell_type": "code",
      "source": [
        "x=brate_mrg['Avg. age']\n",
        "y=brate_mrg['Avg. Birth rate']\n",
        "correlation = y.corr(x)\n",
        "print(\"Correlation: \",correlation)\n",
        "\n",
        "# plotting the data\n",
        "plt.scatter(x, y)\n",
        "  \n",
        "# This will fit the best line into the graph\n",
        "plt.plot(np.unique(x), np.poly1d(np.polyfit(x, y, 1))\n",
        "         (np.unique(x)), color='red')\n",
        "\n",
        "# adds the title\n",
        "plt.title('Correlation between Average marriage age and Birth rates')\n",
        "  \n",
        "\n",
        "# Labelling axes\n",
        "plt.xlabel('Avg. Marriage age')\n",
        "plt.ylabel('Avg. Adolescent Birth rate')"
      ],
      "metadata": {
        "colab": {
          "base_uri": "https://localhost:8080/",
          "height": 330
        },
        "id": "8xbg76yLasWr",
        "outputId": "1a38d4cb-254a-4908-b3e2-7764e5cb47ad"
      },
      "execution_count": null,
      "outputs": [
        {
          "output_type": "stream",
          "name": "stdout",
          "text": [
            "Correlation:  -0.7159496030805883\n"
          ]
        },
        {
          "output_type": "execute_result",
          "data": {
            "text/plain": [
              "Text(0, 0.5, 'Avg. Adolescent Birth rate')"
            ]
          },
          "metadata": {},
          "execution_count": 32
        },
        {
          "output_type": "display_data",
          "data": {
            "text/plain": [
              "<Figure size 432x288 with 1 Axes>"
            ],
            "image/png": "[encoded data removed]"
          },
          "metadata": {
            "needs_background": "light"
          }
        }
      ]
    },
    {
      "cell_type": "markdown",
      "source": [
        "Negative correlation: The higher the average marriage age in a country, the lower is its average adolescent birth rate. Indicates that as people tend to marry later, adolescent births are low in a country."
      ],
      "metadata": {
        "id": "2HBetqTRbhpw"
      }
    },
    {
      "cell_type": "markdown",
      "source": [
        "Checking for any outliers:"
      ],
      "metadata": {
        "id": "G49Q93qFnDbm"
      }
    },
    {
      "cell_type": "code",
      "source": [
        "#finding the country with the highest birth rate\n",
        "max_br = np.array(brate_mrg.loc[brate_mrg['Avg. Birth rate'].idxmax()])\n",
        "print(max_br)\n"
      ],
      "metadata": {
        "colab": {
          "base_uri": "https://localhost:8080/"
        },
        "id": "KAeUhPdxmGsg",
        "outputId": "65d9cc2a-fb2b-4a77-d6bf-84c43c4e9936"
      },
      "execution_count": null,
      "outputs": [
        {
          "output_type": "stream",
          "name": "stdout",
          "text": [
            "['Niger' 17.200001 187.45999999999998]\n"
          ]
        }
      ]
    },
    {
      "cell_type": "code",
      "source": [
        "#Calculating mean and standard deviation of avg. birth rate\n",
        "\n",
        "mean = np.mean(brate_mrg['Avg. Birth rate'])\n",
        "std = np.std(brate_mrg['Avg. Birth rate'])\n",
        "print('mean of the dataset is', mean)\n",
        "print('std. deviation is', std)"
      ],
      "metadata": {
        "colab": {
          "base_uri": "https://localhost:8080/"
        },
        "id": "-vRsA5yrsP8m",
        "outputId": "11920160-79cd-4c87-9d74-89cb0934754a"
      },
      "execution_count": null,
      "outputs": [
        {
          "output_type": "stream",
          "name": "stdout",
          "text": [
            "mean of the dataset is 56.58378532738859\n",
            "std. deviation is 46.54197458657238\n"
          ]
        }
      ]
    },
    {
      "cell_type": "markdown",
      "source": [
        "Z score for Outlier Detection: A Z score of more than 3 standard deviations indicates an outlier"
      ],
      "metadata": {
        "id": "ok3lor_KuP0k"
      }
    },
    {
      "cell_type": "code",
      "source": [
        "threshold = 3\n",
        "outlier = []\n",
        "for i in (brate_mrg['Avg. Birth rate']):\n",
        "    z = (i-mean)/std\n",
        "    if z > threshold:\n",
        "        outlier.append(i)\n",
        "print('outlier in dataset is', outlier)"
      ],
      "metadata": {
        "colab": {
          "base_uri": "https://localhost:8080/"
        },
        "id": "EmM3rKTTtMQT",
        "outputId": "f4ad8524-89b1-4a9e-e716-7552f0b0c996"
      },
      "execution_count": null,
      "outputs": [
        {
          "output_type": "stream",
          "name": "stdout",
          "text": [
            "outlier in dataset is []\n"
          ]
        }
      ]
    },
    {
      "cell_type": "markdown",
      "source": [
        "There are no outliers. "
      ],
      "metadata": {
        "id": "dx7BzFW7ugo2"
      }
    }
  ]
}