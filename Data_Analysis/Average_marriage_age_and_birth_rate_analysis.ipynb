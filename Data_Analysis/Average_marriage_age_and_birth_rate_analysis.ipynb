{
  "nbformat": 4,
  "nbformat_minor": 0,
  "metadata": {
    "colab": {
      "name": "Average marriage age and birth rate analysis.ipynb",
      "provenance": [],
      "collapsed_sections": []
    },
    "kernelspec": {
      "name": "python3",
      "display_name": "Python 3"
    },
    "language_info": {
      "name": "python"
    }
  },
  "cells": [
    {
      "cell_type": "code",
      "execution_count": null,
      "metadata": {
        "colab": {
          "base_uri": "https://localhost:8080/",
          "height": 36
        },
        "id": "-oWvsoIJ6Czs",
        "outputId": "dcfa79f9-1909-4358-a949-1ca81b798d69"
      },
      "outputs": [
        {
          "output_type": "execute_result",
          "data": {
            "text/plain": [
              "'\\n@author: vaaruni\\n'"
            ],
            "application/vnd.google.colaboratory.intrinsic+json": {
              "type": "string"
            }
          },
          "metadata": {},
          "execution_count": 7
        }
      ],
      "source": [
        "\"\"\"\n",
        "@author: vaaruni\n",
        "\"\"\""
      ]
    },
    {
      "cell_type": "code",
      "source": [
        "import pandas as pd\n",
        "import numpy as np\n",
        "import matplotlib.pyplot as plt"
      ],
      "metadata": {
        "id": "yj0V-dgO6WiQ"
      },
      "execution_count": null,
      "outputs": []
    },
    {
      "cell_type": "code",
      "source": [
        "#load cleaned avg. marriage age and birth rate datasets\n",
        "mrg_df = pd.read_json('cleanedMrgdata.json')\n",
        "brate_df = pd.read_json('cleanedBirthRate.json')"
      ],
      "metadata": {
        "id": "PTWRja5j6ZUw"
      },
      "execution_count": null,
      "outputs": []
    },
    {
      "cell_type": "code",
      "source": [
        "avg_brate = brate_df.groupby(['Country'])['Birth rate'].mean()\n",
        "avg_brate = avg_brate.reset_index(name = 'Avg. Birth rate')"
      ],
      "metadata": {
        "id": "f84SdjkX62UT"
      },
      "execution_count": null,
      "outputs": []
    },
    {
      "cell_type": "code",
      "source": [
        "mrg_df.info()"
      ],
      "metadata": {
        "colab": {
          "base_uri": "https://localhost:8080/"
        },
        "id": "gITjHY8R6oin",
        "outputId": "0ddc1f94-c3c4-413e-fc18-ba110894098c"
      },
      "execution_count": null,
      "outputs": [
        {
          "output_type": "stream",
          "name": "stdout",
          "text": [
            "<class 'pandas.core.frame.DataFrame'>\n",
            "RangeIndex: 216 entries, 0 to 215\n",
            "Data columns (total 2 columns):\n",
            " #   Column    Non-Null Count  Dtype  \n",
            "---  ------    --------------  -----  \n",
            " 0   Country   216 non-null    object \n",
            " 1   Avg. age  216 non-null    float64\n",
            "dtypes: float64(1), object(1)\n",
            "memory usage: 3.5+ KB\n"
          ]
        }
      ]
    },
    {
      "cell_type": "code",
      "source": [
        "# To find the missing countries in Birth rate data set\n",
        "for a in list(mrg_df['Country']):\n",
        "  if(a in list(avg_brate['Country'])):\n",
        "    pass\n",
        "  else:\n",
        "    print(a)"
      ],
      "metadata": {
        "colab": {
          "base_uri": "https://localhost:8080/"
        },
        "id": "Ndp3j2w_6rcp",
        "outputId": "f1df3650-48c9-4caf-e46c-3cc79e9d673c"
      },
      "execution_count": null,
      "outputs": [
        {
          "output_type": "stream",
          "name": "stdout",
          "text": [
            "Anguilla\n",
            "Aruba\n",
            "Bermuda\n",
            "Cayman Islands\n",
            "Channel Islands\n",
            "Faeroe Islands\n",
            "Falkland Islands\n",
            "French Guiana\n",
            "French Polynesia\n",
            "Gibraltar\n",
            "Greenland\n",
            "Hong Kong\n",
            "Isle of Man\n",
            "Kosovo\n",
            "Liechtenstein\n",
            "Macao\n",
            "Mayotte\n",
            "Monaco\n",
            "Montserrat\n",
            "Netherlands Antilles\n",
            "New Caledonia\n",
            "Northern Mariana Islands\n",
            "Palestine\n",
            "Puerto Rico\n",
            "Reunion\n",
            "Sint Maarten (Dutch part)\n",
            "Tokelau\n",
            "Turks and Caicos Islands\n",
            "United Kingdom\n",
            "United States of Virgin Islands\n",
            "Wallis and Futuna\n"
          ]
        }
      ]
    },
    {
      "cell_type": "code",
      "source": [
        "#merging birth rate and marriage age dfs\n",
        "brate_mrg = pd.merge(mrg_df, avg_brate, on='Country')"
      ],
      "metadata": {
        "id": "hNtfLTtB-5K0"
      },
      "execution_count": null,
      "outputs": []
    },
    {
      "cell_type": "code",
      "source": [
        "brate_mrg.info()"
      ],
      "metadata": {
        "id": "_m26WA2d_IT9",
        "outputId": "0f409e45-2cab-4be5-f55d-509d707895ff",
        "colab": {
          "base_uri": "https://localhost:8080/"
        }
      },
      "execution_count": null,
      "outputs": [
        {
          "output_type": "stream",
          "name": "stdout",
          "text": [
            "<class 'pandas.core.frame.DataFrame'>\n",
            "Int64Index: 185 entries, 0 to 184\n",
            "Data columns (total 3 columns):\n",
            " #   Column           Non-Null Count  Dtype  \n",
            "---  ------           --------------  -----  \n",
            " 0   Country          185 non-null    object \n",
            " 1   Avg. age         185 non-null    float64\n",
            " 2   Avg. Birth rate  185 non-null    float64\n",
            "dtypes: float64(2), object(1)\n",
            "memory usage: 5.8+ KB\n"
          ]
        }
      ]
    },
    {
      "cell_type": "code",
      "source": [
        "#checking the maximum and minimum of the average marriage age\n",
        "brate_mrg['Avg. age'].describe()\n"
      ],
      "metadata": {
        "colab": {
          "base_uri": "https://localhost:8080/"
        },
        "id": "5swwUz7pZkQg",
        "outputId": "6cb04937-2f77-4b1f-aa7c-d4c3d0695a6a"
      },
      "execution_count": null,
      "outputs": [
        {
          "output_type": "execute_result",
          "data": {
            "text/plain": [
              "count    185.000000\n",
              "mean      24.816216\n",
              "std        3.772146\n",
              "min       17.200001\n",
              "25%       21.900000\n",
              "50%       24.000000\n",
              "75%       27.799999\n",
              "max       33.799999\n",
              "Name: Avg. age, dtype: float64"
            ]
          },
          "metadata": {},
          "execution_count": 28
        }
      ]
    },
    {
      "cell_type": "markdown",
      "source": [
        "Minimum avg. marriage age is 17 and maximum avg. marriage age is 33. The mean age of marriage is 24. There seems to be no country with an average marriage age less than 16, indicating that child marriages are not the norm anywhere."
      ],
      "metadata": {
        "id": "Hc0AUxeWyXDj"
      }
    },
    {
      "cell_type": "code",
      "source": [
        "#correlation matrix\n",
        "corrM = brate_mrg.corr()\n",
        "print(corrM)\n",
        "\n",
        "#By descending order of average marriage age\n",
        "amr_br_df=(brate_mrg[['Avg. age','Avg. Birth rate']])\n",
        "print(amr_br_df.sort_values(by=['Avg. age'], ascending=False))\n",
        "\n"
      ],
      "metadata": {
        "colab": {
          "base_uri": "https://localhost:8080/"
        },
        "id": "GZKTQod2abHn",
        "outputId": "3637ff22-b5b8-412b-81ab-746ced63b2a8"
      },
      "execution_count": null,
      "outputs": [
        {
          "output_type": "stream",
          "name": "stdout",
          "text": [
            "                 Avg. age  Avg. Birth rate\n",
            "Avg. age         1.000000        -0.671078\n",
            "Avg. Birth rate -0.671078         1.000000\n",
            "      Avg. age  Avg. Birth rate\n",
            "159  33.799999         2.648718\n",
            "155  33.200001         4.766667\n",
            "48   32.500000        25.972727\n",
            "74   32.400002         5.584211\n",
            "46   32.400002         1.837500\n",
            "..         ...              ...\n",
            "100  18.799999        87.704545\n",
            "31   18.799999        87.586957\n",
            "12   18.799999        62.342424\n",
            "30   17.299999       106.088235\n",
            "118  17.200001       114.247059\n",
            "\n",
            "[185 rows x 2 columns]\n"
          ]
        }
      ]
    },
    {
      "cell_type": "code",
      "source": [
        "x=brate_mrg['Avg. age']\n",
        "y=brate_mrg['Avg. Birth rate']\n",
        "correlation = y.corr(x)\n",
        "print(\"Correlation: \",correlation)\n",
        "\n",
        "# plotting the data\n",
        "plt.scatter(x, y)\n",
        "  \n",
        "# This will fit the best line into the graph\n",
        "plt.plot(np.unique(x), np.poly1d(np.polyfit(x, y, 1))\n",
        "         (np.unique(x)), color='red')\n",
        "\n",
        "# adds the title\n",
        "plt.title('Correlation between Average marriage age and Birth rates')\n",
        "  \n",
        "\n",
        "# Labelling axes\n",
        "plt.xlabel('Avg. Marriage age')\n",
        "plt.ylabel('Avg. Adolescent Birth rate')"
      ],
      "metadata": {
        "colab": {
          "base_uri": "https://localhost:8080/",
          "height": 330
        },
        "id": "8xbg76yLasWr",
        "outputId": "c993fd20-efbe-4265-8e56-b2359805ba7a"
      },
      "execution_count": null,
      "outputs": [
        {
          "output_type": "stream",
          "name": "stdout",
          "text": [
            "Correlation:  -0.6710778920514254\n"
          ]
        },
        {
          "output_type": "execute_result",
          "data": {
            "text/plain": [
              "Text(0, 0.5, 'Avg. Adolescent Birth rate')"
            ]
          },
          "metadata": {},
          "execution_count": 54
        },
        {
          "output_type": "display_data",
          "data": {
            "text/plain": [
              "<Figure size 432x288 with 1 Axes>"
            ],
            "image/png": "[encoded data removed]"
          },
          "metadata": {
            "needs_background": "light"
          }
        }
      ]
    },
    {
      "cell_type": "markdown",
      "source": [
        "Negative correlation: The higher the average marriage age in a country, the lower is its average adolescent birth rate. Indicates that as people tend to marry later, adolescent births are low in a country."
      ],
      "metadata": {
        "id": "2HBetqTRbhpw"
      }
    },
    {
      "cell_type": "markdown",
      "source": [
        "Checking for the maximum outlier in the graph:"
      ],
      "metadata": {
        "id": "G49Q93qFnDbm"
      }
    },
    {
      "cell_type": "code",
      "source": [
        "#finding the country with the highest birth rate\n",
        "max_br = np.array(brate_mrg.loc[brate_mrg['Avg. Birth rate'].idxmax()])\n",
        "print(max_br)\n"
      ],
      "metadata": {
        "colab": {
          "base_uri": "https://localhost:8080/"
        },
        "id": "KAeUhPdxmGsg",
        "outputId": "33dcde23-b651-4878-95ab-cf65eb650fb1"
      },
      "execution_count": null,
      "outputs": [
        {
          "output_type": "stream",
          "name": "stdout",
          "text": [
            "['Equatorial Guinea' 20.5 177.5]\n"
          ]
        }
      ]
    },
    {
      "cell_type": "markdown",
      "source": [
        "Equatorial Guinea has the maximum birth rate. Can it be verified as an outlier?\n",
        "\n"
      ],
      "metadata": {
        "id": "wiRpp8gMngtU"
      }
    },
    {
      "cell_type": "code",
      "source": [
        "#Calculating mean and standard deviation of avg. birth rate\n",
        "\n",
        "mean = np.mean(brate_mrg['Avg. Birth rate'])\n",
        "std = np.std(brate_mrg['Avg. Birth rate'])\n",
        "print('mean of the dataset is', mean)\n",
        "print('std. deviation is', std)"
      ],
      "metadata": {
        "colab": {
          "base_uri": "https://localhost:8080/"
        },
        "id": "-vRsA5yrsP8m",
        "outputId": "817ed81f-9d6d-4f1c-dff2-6cc6767c9040"
      },
      "execution_count": null,
      "outputs": [
        {
          "output_type": "stream",
          "name": "stdout",
          "text": [
            "mean of the dataset is 30.04069495718179\n",
            "std. deviation is 26.772082666468265\n"
          ]
        }
      ]
    },
    {
      "cell_type": "markdown",
      "source": [
        "Z score for Outlier Detection: A Z score of more than 3 standard deviations indicates an outlier"
      ],
      "metadata": {
        "id": "ok3lor_KuP0k"
      }
    },
    {
      "cell_type": "code",
      "source": [
        "threshold = 3\n",
        "outlier = []\n",
        "for i in (brate_mrg['Avg. Birth rate']):\n",
        "    z = (i-mean)/std\n",
        "    if z > threshold:\n",
        "        outlier.append(i)\n",
        "print('outlier in dataset is', outlier)"
      ],
      "metadata": {
        "colab": {
          "base_uri": "https://localhost:8080/"
        },
        "id": "EmM3rKTTtMQT",
        "outputId": "2e7cdc6a-4d6a-46ae-b18d-26915b800eb5"
      },
      "execution_count": null,
      "outputs": [
        {
          "output_type": "stream",
          "name": "stdout",
          "text": [
            "outlier in dataset is [177.5, 114.24705882352941]\n"
          ]
        }
      ]
    },
    {
      "cell_type": "markdown",
      "source": [
        "There are 2 outliers. The country with an average adolescent birth rate of 177.5 has already been identified as Equatorial Guinea. Which country is the other outlier?"
      ],
      "metadata": {
        "id": "dx7BzFW7ugo2"
      }
    },
    {
      "cell_type": "code",
      "source": [
        "print(brate_mrg.loc[brate_mrg['Avg. Birth rate'] == 114.24705882352941])"
      ],
      "metadata": {
        "colab": {
          "base_uri": "https://localhost:8080/"
        },
        "id": "dGJq4kZCvAfc",
        "outputId": "2dc1f1f8-0d3e-4cfd-9fe8-59004e9b8909"
      },
      "execution_count": null,
      "outputs": [
        {
          "output_type": "stream",
          "name": "stdout",
          "text": [
            "    Country   Avg. age  Avg. Birth rate\n",
            "118   Niger  17.200001       114.247059\n"
          ]
        }
      ]
    },
    {
      "cell_type": "markdown",
      "source": [
        "Niger is the other outlier. Both the outliers are different from 99% of the average birth rate data points.\n"
      ],
      "metadata": {
        "id": "IWZndLAIwdww"
      }
    },
    {
      "cell_type": "markdown",
      "source": [
        "From the correlation graph, it is visible that Equatorial Guinea as an outlier, doesn't adhere to the observed negative correlation. The country has an average marriage age of 20 but has the highest average adolescent birth rate, unlike the countries of the same category."
      ],
      "metadata": {
        "id": "GomtivqIxC2t"
      }
    }
  ]
}