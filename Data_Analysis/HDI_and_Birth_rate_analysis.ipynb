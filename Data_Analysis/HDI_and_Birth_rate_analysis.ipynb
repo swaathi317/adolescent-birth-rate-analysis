{
  "nbformat": 4,
  "nbformat_minor": 0,
  "metadata": {
    "colab": {
      "name": "HDI_and_Birth_rate_analysis.ipynb",
      "provenance": [],
      "collapsed_sections": []
    },
    "kernelspec": {
      "name": "python3",
      "display_name": "Python 3"
    },
    "language_info": {
      "name": "python"
    }
  },
  "cells": [
    {
      "cell_type": "code",
      "source": [
        "\"\"\"\n",
        "@author: vaaruni\n",
        "\"\"\""
      ],
      "metadata": {
        "colab": {
          "base_uri": "https://localhost:8080/",
          "height": 36
        },
        "id": "JpTkoAXob3v4",
        "outputId": "a21f15a4-b2f9-457c-820c-21bfaa4b413e"
      },
      "execution_count": 80,
      "outputs": [
        {
          "output_type": "execute_result",
          "data": {
            "text/plain": [
              "'\\n@author: vaaruni\\n'"
            ],
            "application/vnd.google.colaboratory.intrinsic+json": {
              "type": "string"
            }
          },
          "metadata": {},
          "execution_count": 80
        }
      ]
    },
    {
      "cell_type": "code",
      "source": [
        "import pandas as pd\n",
        "import numpy as np\n",
        "import matplotlib.pyplot as plt"
      ],
      "metadata": {
        "id": "e98lTQBmbo0Y"
      },
      "execution_count": 78,
      "outputs": []
    },
    {
      "cell_type": "code",
      "source": [
        "#load cleaned HDI data for further EDA\n",
        "HDI_df = pd.read_json('cleanedHDIdata.json')"
      ],
      "metadata": {
        "id": "TwhfeYJJDLS-"
      },
      "execution_count": 79,
      "outputs": []
    },
    {
      "cell_type": "code",
      "source": [
        "HDI_df.info()"
      ],
      "metadata": {
        "colab": {
          "base_uri": "https://localhost:8080/"
        },
        "id": "bRhHXt4QDYEV",
        "outputId": "b0d42078-8cc5-4ef7-f0f9-07217b5480dc"
      },
      "execution_count": 64,
      "outputs": [
        {
          "output_type": "stream",
          "name": "stdout",
          "text": [
            "<class 'pandas.core.frame.DataFrame'>\n",
            "RangeIndex: 189 entries, 0 to 188\n",
            "Data columns (total 5 columns):\n",
            " #   Column                                  Non-Null Count  Dtype  \n",
            "---  ------                                  --------------  -----  \n",
            " 0   Country                                 189 non-null    object \n",
            " 1   Human Development Index (HDI)           189 non-null    float64\n",
            " 2   Expected years of schooling             189 non-null    float64\n",
            " 3   Gross national income (GNI) per capita  189 non-null    object \n",
            " 4   HDI rank                                189 non-null    int64  \n",
            "dtypes: float64(2), int64(1), object(2)\n",
            "memory usage: 7.5+ KB\n"
          ]
        }
      ]
    },
    {
      "cell_type": "code",
      "source": [
        "brate_df = pd.read_json('cleanedBirthRate.json')"
      ],
      "metadata": {
        "id": "EoL-PURVEajk"
      },
      "execution_count": 65,
      "outputs": []
    },
    {
      "cell_type": "code",
      "source": [
        "avg_brate = brate_df.groupby(['Country'])['Birth rate'].mean()\n",
        "avg_brate = avg_brate.reset_index(name = 'Avg. Birth rate')"
      ],
      "metadata": {
        "id": "Ru90R_NXEi4s"
      },
      "execution_count": 66,
      "outputs": []
    },
    {
      "cell_type": "code",
      "source": [
        "avg_brate.describe()"
      ],
      "metadata": {
        "colab": {
          "base_uri": "https://localhost:8080/",
          "height": 300
        },
        "id": "R0509isTFZ6T",
        "outputId": "ea263d38-0a78-4e48-80ba-15f4ff00dbd6"
      },
      "execution_count": 67,
      "outputs": [
        {
          "output_type": "execute_result",
          "data": {
            "text/plain": [
              "       Avg. Birth rate\n",
              "count       193.000000\n",
              "mean         56.036277\n",
              "std          46.145378\n",
              "min           1.000000\n",
              "25%          16.221053\n",
              "50%          46.585714\n",
              "75%          83.776923\n",
              "max         187.460000"
            ],
            "text/html": [
              "\n",
              "  <div id=\"df-a2cb08b6-12b9-47d8-8853-03da11d082b4\">\n",
              "    <div class=\"colab-df-container\">\n",
              "      <div>\n",
              "<style scoped>\n",
              "    .dataframe tbody tr th:only-of-type {\n",
              "        vertical-align: middle;\n",
              "    }\n",
              "\n",
              "    .dataframe tbody tr th {\n",
              "        vertical-align: top;\n",
              "    }\n",
              "\n",
              "    .dataframe thead th {\n",
              "        text-align: right;\n",
              "    }\n",
              "</style>\n",
              "<table border=\"1\" class=\"dataframe\">\n",
              "  <thead>\n",
              "    <tr style=\"text-align: right;\">\n",
              "      <th></th>\n",
              "      <th>Avg. Birth rate</th>\n",
              "    </tr>\n",
              "  </thead>\n",
              "  <tbody>\n",
              "    <tr>\n",
              "      <th>count</th>\n",
              "      <td>193.000000</td>\n",
              "    </tr>\n",
              "    <tr>\n",
              "      <th>mean</th>\n",
              "      <td>56.036277</td>\n",
              "    </tr>\n",
              "    <tr>\n",
              "      <th>std</th>\n",
              "      <td>46.145378</td>\n",
              "    </tr>\n",
              "    <tr>\n",
              "      <th>min</th>\n",
              "      <td>1.000000</td>\n",
              "    </tr>\n",
              "    <tr>\n",
              "      <th>25%</th>\n",
              "      <td>16.221053</td>\n",
              "    </tr>\n",
              "    <tr>\n",
              "      <th>50%</th>\n",
              "      <td>46.585714</td>\n",
              "    </tr>\n",
              "    <tr>\n",
              "      <th>75%</th>\n",
              "      <td>83.776923</td>\n",
              "    </tr>\n",
              "    <tr>\n",
              "      <th>max</th>\n",
              "      <td>187.460000</td>\n",
              "    </tr>\n",
              "  </tbody>\n",
              "</table>\n",
              "</div>\n",
              "      <button class=\"colab-df-convert\" onclick=\"convertToInteractive('df-a2cb08b6-12b9-47d8-8853-03da11d082b4')\"\n",
              "              title=\"Convert this dataframe to an interactive table.\"\n",
              "              style=\"display:none;\">\n",
              "        \n",
              "  <svg xmlns=\"http://www.w3.org/2000/svg\" height=\"24px\"viewBox=\"0 0 24 24\"\n",
              "       width=\"24px\">\n",
              "    <path d=\"M0 0h24v24H0V0z\" fill=\"none\"/>\n",
              "    <path d=\"M18.56 5.44l.94 2.06.94-2.06 2.06-.94-2.06-.94-.94-2.06-.94 2.06-2.06.94zm-11 1L8.5 8.5l.94-2.06 2.06-.94-2.06-.94L8.5 2.5l-.94 2.06-2.06.94zm10 10l.94 2.06.94-2.06 2.06-.94-2.06-.94-.94-2.06-.94 2.06-2.06.94z\"/><path d=\"M17.41 7.96l-1.37-1.37c-.4-.4-.92-.59-1.43-.59-.52 0-1.04.2-1.43.59L10.3 9.45l-7.72 7.72c-.78.78-.78 2.05 0 2.83L4 21.41c.39.39.9.59 1.41.59.51 0 1.02-.2 1.41-.59l7.78-7.78 2.81-2.81c.8-.78.8-2.07 0-2.86zM5.41 20L4 18.59l7.72-7.72 1.47 1.35L5.41 20z\"/>\n",
              "  </svg>\n",
              "      </button>\n",
              "      \n",
              "  <style>\n",
              "    .colab-df-container {\n",
              "      display:flex;\n",
              "      flex-wrap:wrap;\n",
              "      gap: 12px;\n",
              "    }\n",
              "\n",
              "    .colab-df-convert {\n",
              "      background-color: #E8F0FE;\n",
              "      border: none;\n",
              "      border-radius: 50%;\n",
              "      cursor: pointer;\n",
              "      display: none;\n",
              "      fill: #1967D2;\n",
              "      height: 32px;\n",
              "      padding: 0 0 0 0;\n",
              "      width: 32px;\n",
              "    }\n",
              "\n",
              "    .colab-df-convert:hover {\n",
              "      background-color: #E2EBFA;\n",
              "      box-shadow: 0px 1px 2px rgba(60, 64, 67, 0.3), 0px 1px 3px 1px rgba(60, 64, 67, 0.15);\n",
              "      fill: #174EA6;\n",
              "    }\n",
              "\n",
              "    [theme=dark] .colab-df-convert {\n",
              "      background-color: #3B4455;\n",
              "      fill: #D2E3FC;\n",
              "    }\n",
              "\n",
              "    [theme=dark] .colab-df-convert:hover {\n",
              "      background-color: #434B5C;\n",
              "      box-shadow: 0px 1px 3px 1px rgba(0, 0, 0, 0.15);\n",
              "      filter: drop-shadow(0px 1px 2px rgba(0, 0, 0, 0.3));\n",
              "      fill: #FFFFFF;\n",
              "    }\n",
              "  </style>\n",
              "\n",
              "      <script>\n",
              "        const buttonEl =\n",
              "          document.querySelector('#df-a2cb08b6-12b9-47d8-8853-03da11d082b4 button.colab-df-convert');\n",
              "        buttonEl.style.display =\n",
              "          google.colab.kernel.accessAllowed ? 'block' : 'none';\n",
              "\n",
              "        async function convertToInteractive(key) {\n",
              "          const element = document.querySelector('#df-a2cb08b6-12b9-47d8-8853-03da11d082b4');\n",
              "          const dataTable =\n",
              "            await google.colab.kernel.invokeFunction('convertToInteractive',\n",
              "                                                     [key], {});\n",
              "          if (!dataTable) return;\n",
              "\n",
              "          const docLinkHtml = 'Like what you see? Visit the ' +\n",
              "            '<a target=\"_blank\" href=https://colab.research.google.com/notebooks/data_table.ipynb>data table notebook</a>'\n",
              "            + ' to learn more about interactive tables.';\n",
              "          element.innerHTML = '';\n",
              "          dataTable['output_type'] = 'display_data';\n",
              "          await google.colab.output.renderOutput(dataTable, element);\n",
              "          const docLink = document.createElement('div');\n",
              "          docLink.innerHTML = docLinkHtml;\n",
              "          element.appendChild(docLink);\n",
              "        }\n",
              "      </script>\n",
              "    </div>\n",
              "  </div>\n",
              "  "
            ]
          },
          "metadata": {},
          "execution_count": 67
        }
      ]
    },
    {
      "cell_type": "markdown",
      "source": [
        "We have HDI data for only 189 countries but we have the average birth rate data for 193 countries. Hence, we will remove the countries for which we don't have the HDI data."
      ],
      "metadata": {
        "id": "duK-hr1SFxta"
      }
    },
    {
      "cell_type": "code",
      "source": [
        "brate_hdi = pd.merge(HDI_df, avg_brate, on='Country')\n",
        "brate_hdi[\"Gross national income (GNI) per capita\"] = brate_hdi[\"Gross national income (GNI) per capita\"].replace({',':''}, regex = True)\n",
        "brate_hdi[\"Gross national income (GNI) per capita\"] = pd.to_numeric(brate_hdi[\"Gross national income (GNI) per capita\"])"
      ],
      "metadata": {
        "id": "JGjXHVMdFxLr"
      },
      "execution_count": 68,
      "outputs": []
    },
    {
      "cell_type": "code",
      "source": [
        "brate_hdi.info()"
      ],
      "metadata": {
        "colab": {
          "base_uri": "https://localhost:8080/"
        },
        "id": "2AMtysi1GdWq",
        "outputId": "2df7a072-6ae6-4103-fdde-4a946142c859"
      },
      "execution_count": 69,
      "outputs": [
        {
          "output_type": "stream",
          "name": "stdout",
          "text": [
            "<class 'pandas.core.frame.DataFrame'>\n",
            "Int64Index: 186 entries, 0 to 185\n",
            "Data columns (total 6 columns):\n",
            " #   Column                                  Non-Null Count  Dtype  \n",
            "---  ------                                  --------------  -----  \n",
            " 0   Country                                 186 non-null    object \n",
            " 1   Human Development Index (HDI)           186 non-null    float64\n",
            " 2   Expected years of schooling             186 non-null    float64\n",
            " 3   Gross national income (GNI) per capita  186 non-null    int64  \n",
            " 4   HDI rank                                186 non-null    int64  \n",
            " 5   Avg. Birth rate                         186 non-null    float64\n",
            "dtypes: float64(3), int64(2), object(1)\n",
            "memory usage: 10.2+ KB\n"
          ]
        }
      ]
    },
    {
      "cell_type": "code",
      "source": [
        "brate_hdi.to_json('./brateHDIdata.json', orient='records')"
      ],
      "metadata": {
        "id": "M9sPz6AROO-R"
      },
      "execution_count": 70,
      "outputs": []
    },
    {
      "cell_type": "code",
      "source": [
        "# To find the missing countries in Birth rate data set\n",
        "for a in list(HDI_df['Country']):\n",
        "  if(a in list(brate_hdi['Country'])):\n",
        "    pass\n",
        "  else:\n",
        "    print(a)"
      ],
      "metadata": {
        "colab": {
          "base_uri": "https://localhost:8080/"
        },
        "id": "d7RsXQfTRZkh",
        "outputId": "9d06b8c7-dcfc-4194-ba38-3d8d294b61b2"
      },
      "execution_count": 71,
      "outputs": [
        {
          "output_type": "stream",
          "name": "stdout",
          "text": [
            "Hong Kong, China (SAR)\n",
            "Liechtenstein\n",
            "Palestine, State of\n"
          ]
        }
      ]
    },
    {
      "cell_type": "code",
      "source": [
        "# To find the missing countries in HDI dataset\n",
        "for a in list(avg_brate['Country']):\n",
        "  if(a in list(brate_hdi['Country'])):\n",
        "    pass\n",
        "  else:\n",
        "    print(a)"
      ],
      "metadata": {
        "colab": {
          "base_uri": "https://localhost:8080/"
        },
        "id": "avE4UFIyUnGm",
        "outputId": "3faab6c3-4512-4d64-a7cc-26b888183c23"
      },
      "execution_count": 72,
      "outputs": [
        {
          "output_type": "stream",
          "name": "stdout",
          "text": [
            "Cook Islands\n",
            "Democratic People's Republic of Korea\n",
            "Nauru\n",
            "Niue\n",
            "San Marino\n",
            "Somalia\n",
            "Tuvalu\n"
          ]
        }
      ]
    },
    {
      "cell_type": "markdown",
      "source": [
        "Correlation between every column in the merged HDI and birth rate dataframe"
      ],
      "metadata": {
        "id": "sn3AM2txW-Mc"
      }
    },
    {
      "cell_type": "code",
      "source": [
        "#correlation matrix\n",
        "corrM = brate_hdi.corr()\n",
        "print(corrM)\n"
      ],
      "metadata": {
        "colab": {
          "base_uri": "https://localhost:8080/"
        },
        "id": "p5e5FrpGuJY0",
        "outputId": "6c905941-bff8-4153-f289-fefbcc12220d"
      },
      "execution_count": 73,
      "outputs": [
        {
          "output_type": "stream",
          "name": "stdout",
          "text": [
            "                                        Human Development Index (HDI)   \\\n",
            "Human Development Index (HDI)                                 1.000000   \n",
            "Expected years of schooling                                   0.903962   \n",
            "Gross national income (GNI) per capita                        0.813569   \n",
            "HDI rank                                                     -0.990271   \n",
            "Avg. Birth rate                                              -0.814447   \n",
            "\n",
            "                                        Expected years of schooling  \\\n",
            "Human Development Index (HDI)                              0.903962   \n",
            "Expected years of schooling                                1.000000   \n",
            "Gross national income (GNI) per capita                     0.692694   \n",
            "HDI rank                                                  -0.900856   \n",
            "Avg. Birth rate                                           -0.701565   \n",
            "\n",
            "                                        Gross national income (GNI) per capita  \\\n",
            "Human Development Index (HDI)                                         0.813569   \n",
            "Expected years of schooling                                           0.692694   \n",
            "Gross national income (GNI) per capita                                1.000000   \n",
            "HDI rank                                                             -0.850277   \n",
            "Avg. Birth rate                                                      -0.632391   \n",
            "\n",
            "                                        HDI rank  Avg. Birth rate  \n",
            "Human Development Index (HDI)          -0.990271        -0.814447  \n",
            "Expected years of schooling            -0.900856        -0.701565  \n",
            "Gross national income (GNI) per capita -0.850277        -0.632391  \n",
            "HDI rank                                1.000000         0.792035  \n",
            "Avg. Birth rate                         0.792035         1.000000  \n"
          ]
        }
      ]
    },
    {
      "cell_type": "code",
      "source": [
        "x=brate_hdi['Human Development Index (HDI) ']\n",
        "y=brate_hdi['Avg. Birth rate']\n",
        "correlation = y.corr(x)\n",
        "correlation\n",
        "\n",
        "# plotting the data\n",
        "plt.scatter(x, y)\n",
        "  \n",
        "# This will fit the best line into the graph\n",
        "plt.plot(np.unique(x), np.poly1d(np.polyfit(x, y, 1))\n",
        "         (np.unique(x)), color='red')\n",
        "\n",
        "# adds the title\n",
        "plt.title('Correlation between HDI and Birth rates')\n",
        "  \n",
        "\n",
        "# Labelling axes\n",
        "plt.xlabel('Human Development Index (HDI)')\n",
        "plt.ylabel('Avg. Birth rate')\n",
        "\n"
      ],
      "metadata": {
        "colab": {
          "base_uri": "https://localhost:8080/",
          "height": 312
        },
        "id": "bF8pK1tNoEEc",
        "outputId": "fbc33182-5425-43d4-805f-377591021f3e"
      },
      "execution_count": 74,
      "outputs": [
        {
          "output_type": "execute_result",
          "data": {
            "text/plain": [
              "Text(0, 0.5, 'Avg. Birth rate')"
            ]
          },
          "metadata": {},
          "execution_count": 74
        },
        {
          "output_type": "display_data",
          "data": {
            "text/plain": [
              "<Figure size 432x288 with 1 Axes>"
            ],
            "image/png": "[encoded data removed]"
          },
          "metadata": {
            "needs_background": "light"
          }
        }
      ]
    },
    {
      "cell_type": "markdown",
      "source": [
        "Negative correlation: With the increase in HDI, the average adolescent birth rates seem to decrease. Hence, countries with higher HDI are likely to have lower adolescent birth rates."
      ],
      "metadata": {
        "id": "tnPmrDkhxWgG"
      }
    },
    {
      "cell_type": "code",
      "source": [
        "# checking correlation between hdi rank and birth rate using heatmap\n",
        "import seaborn as sns\n",
        "\n",
        "hdir_br_df=brate_hdi[['HDI rank','Avg. Birth rate']]\n",
        "print(hdir_br_df)\n",
        "\n",
        "\n",
        "#ploting the heatmap for correlation\n",
        "hm = sns.heatmap(hdir_br_df.corr(), cmap=\"YlGnBu\", annot=True)\n",
        "  \n",
        "# displaying the plotted heatmap\n",
        "plt.show()"
      ],
      "metadata": {
        "colab": {
          "base_uri": "https://localhost:8080/",
          "height": 512
        },
        "id": "lQD0gQHp8X3m",
        "outputId": "dd5f698a-dbea-41f6-9b0f-8269d9c9df71"
      },
      "execution_count": 75,
      "outputs": [
        {
          "output_type": "stream",
          "name": "stdout",
          "text": [
            "     HDI rank  Avg. Birth rate\n",
            "0           1         7.144444\n",
            "1           2        13.189474\n",
            "2           2         3.794737\n",
            "3           4        11.727778\n",
            "4           6         9.310526\n",
            "..        ...              ...\n",
            "181       185        71.350000\n",
            "182       185       159.400000\n",
            "183       187       179.780000\n",
            "184       188       182.066667\n",
            "185       189       187.460000\n",
            "\n",
            "[186 rows x 2 columns]\n"
          ]
        },
        {
          "output_type": "display_data",
          "data": {
            "text/plain": [
              "<Figure size 432x288 with 2 Axes>"
            ],
            "image/png": "[encoded data removed]"
          },
          "metadata": {
            "needs_background": "light"
          }
        }
      ]
    },
    {
      "cell_type": "markdown",
      "source": [
        "Positive Correlation: Lower HDI ranks have higher numerical values and vice-versa. The countries with top ranks i.e. lower numerical values have lower adolescent birth rates. Similarly, the countries with lowest ranks (higher numerical values) have higher adolescent birth rates."
      ],
      "metadata": {
        "id": "dGCWnsqb80nx"
      }
    },
    {
      "cell_type": "code",
      "source": [
        "# checking correlation between expected yrs of schooling and birth rate using heatmap\n",
        "import seaborn as sns\n",
        "\n",
        "sch_br_df=brate_hdi[['Expected years of schooling','Avg. Birth rate']]\n",
        "print(sch_br_df)\n",
        "\n",
        "\n",
        "#ploting the heatmap for correlation\n",
        "hm = sns.heatmap(sch_br_df.corr(), cmap=\"YlGnBu\", annot=True)\n",
        "  \n",
        "# displaying the plotted heatmap\n",
        "plt.show()"
      ],
      "metadata": {
        "colab": {
          "base_uri": "https://localhost:8080/",
          "height": 524
        },
        "id": "oN5zPT8vxVQI",
        "outputId": "3f7f5692-f03f-4944-ab8f-ac630b2039cb"
      },
      "execution_count": 76,
      "outputs": [
        {
          "output_type": "stream",
          "name": "stdout",
          "text": [
            "     Expected years of schooling  Avg. Birth rate\n",
            "0                           18.1         7.144444\n",
            "1                           18.7        13.189474\n",
            "2                           16.3         3.794737\n",
            "3                           19.1        11.727778\n",
            "4                           17.0         9.310526\n",
            "..                           ...              ...\n",
            "181                         11.1        71.350000\n",
            "182                          5.3       159.400000\n",
            "183                          7.3       179.780000\n",
            "184                          7.6       182.066667\n",
            "185                          6.5       187.460000\n",
            "\n",
            "[186 rows x 2 columns]\n"
          ]
        },
        {
          "output_type": "display_data",
          "data": {
            "text/plain": [
              "<Figure size 432x288 with 2 Axes>"
            ],
            "image/png": "[encoded data removed]"
          },
          "metadata": {
            "needs_background": "light"
          }
        }
      ]
    },
    {
      "cell_type": "markdown",
      "source": [
        "Negative correlation: Indicates that with the increase in expected years of schooling, the average adolescence birth rate for a country tends to decrease."
      ],
      "metadata": {
        "id": "FbBZ1WmE5eJL"
      }
    },
    {
      "cell_type": "code",
      "source": [
        "# checking correlation between gross national income and birth rate using heatmap\n",
        "import seaborn as sns\n",
        "\n",
        "gni_br_df=brate_hdi[['Gross national income (GNI) per capita','Avg. Birth rate']]\n",
        "print(gni_br_df)\n",
        "\n",
        "\n",
        "#ploting the heatmap for correlation\n",
        "hm = sns.heatmap(gni_br_df.corr(), cmap=\"YlGnBu\", annot=True)\n",
        "  \n",
        "# displaying the plotted heatmap\n",
        "plt.show()"
      ],
      "metadata": {
        "colab": {
          "base_uri": "https://localhost:8080/",
          "height": 512
        },
        "id": "RNGHH-g97gFS",
        "outputId": "d46a0f33-2377-493d-fd7b-0917fd332ac5"
      },
      "execution_count": 77,
      "outputs": [
        {
          "output_type": "stream",
          "name": "stdout",
          "text": [
            "     Gross national income (GNI) per capita  Avg. Birth rate\n",
            "0                                     66494         7.144444\n",
            "1                                     68371        13.189474\n",
            "2                                     69394         3.794737\n",
            "3                                     54682        11.727778\n",
            "4                                     55314         9.310526\n",
            "..                                      ...              ...\n",
            "181                                     754        71.350000\n",
            "182                                    2003       159.400000\n",
            "183                                    1555       179.780000\n",
            "184                                     993       182.066667\n",
            "185                                    1201       187.460000\n",
            "\n",
            "[186 rows x 2 columns]\n"
          ]
        },
        {
          "output_type": "display_data",
          "data": {
            "text/plain": [
              "<Figure size 432x288 with 2 Axes>"
            ],
            "image/png": "[encoded data removed]"
          },
          "metadata": {
            "needs_background": "light"
          }
        }
      ]
    },
    {
      "cell_type": "markdown",
      "source": [
        "Negative correlation: Higher the per capita Gross National Income for a country, the lower is its adolescent birth rate."
      ],
      "metadata": {
        "id": "ATZpvPyM781C"
      }
    }
  ]
}